{
 "cells": [
  {
   "cell_type": "code",
   "execution_count": 87,
   "metadata": {},
   "outputs": [],
   "source": [
    "import numpy as np\n",
    "import pandas as pd\n",
    "import statsmodels.api as sm\n",
    "import scipy.stats as st\n",
    "import yfinance as yf"
   ]
  },
  {
   "cell_type": "code",
   "execution_count": 88,
   "metadata": {},
   "outputs": [
    {
     "name": "stderr",
     "output_type": "stream",
     "text": [
      "[*********************100%%**********************]  1 of 1 completed\n",
      "[*********************100%%**********************]  1 of 1 completed\n",
      "[*********************100%%**********************]  1 of 1 completed\n"
     ]
    }
   ],
   "source": [
    "tickers = [\"GOOGL\", \"AMZN\", \"TSLA\"]\n",
    "\n",
    "dane = {}\n",
    "for ticker in tickers:\n",
    " dane[ticker] = yf.download(ticker, start=\"2023-01-01\", end=\"2023-9-21\")\n",
    "data = pd.concat(dane, axis = 1)"
   ]
  },
  {
   "cell_type": "code",
   "execution_count": 89,
   "metadata": {},
   "outputs": [
    {
     "data": {
      "text/html": [
       "<div>\n",
       "<style scoped>\n",
       "    .dataframe tbody tr th:only-of-type {\n",
       "        vertical-align: middle;\n",
       "    }\n",
       "\n",
       "    .dataframe tbody tr th {\n",
       "        vertical-align: top;\n",
       "    }\n",
       "\n",
       "    .dataframe thead tr th {\n",
       "        text-align: left;\n",
       "    }\n",
       "\n",
       "    .dataframe thead tr:last-of-type th {\n",
       "        text-align: right;\n",
       "    }\n",
       "</style>\n",
       "<table border=\"1\" class=\"dataframe\">\n",
       "  <thead>\n",
       "    <tr>\n",
       "      <th></th>\n",
       "      <th colspan=\"6\" halign=\"left\">GOOGL</th>\n",
       "      <th colspan=\"6\" halign=\"left\">AMZN</th>\n",
       "      <th colspan=\"6\" halign=\"left\">TSLA</th>\n",
       "    </tr>\n",
       "    <tr>\n",
       "      <th></th>\n",
       "      <th>Open</th>\n",
       "      <th>High</th>\n",
       "      <th>Low</th>\n",
       "      <th>Close</th>\n",
       "      <th>Adj Close</th>\n",
       "      <th>Volume</th>\n",
       "      <th>Open</th>\n",
       "      <th>High</th>\n",
       "      <th>Low</th>\n",
       "      <th>Close</th>\n",
       "      <th>Adj Close</th>\n",
       "      <th>Volume</th>\n",
       "      <th>Open</th>\n",
       "      <th>High</th>\n",
       "      <th>Low</th>\n",
       "      <th>Close</th>\n",
       "      <th>Adj Close</th>\n",
       "      <th>Volume</th>\n",
       "    </tr>\n",
       "    <tr>\n",
       "      <th>Date</th>\n",
       "      <th></th>\n",
       "      <th></th>\n",
       "      <th></th>\n",
       "      <th></th>\n",
       "      <th></th>\n",
       "      <th></th>\n",
       "      <th></th>\n",
       "      <th></th>\n",
       "      <th></th>\n",
       "      <th></th>\n",
       "      <th></th>\n",
       "      <th></th>\n",
       "      <th></th>\n",
       "      <th></th>\n",
       "      <th></th>\n",
       "      <th></th>\n",
       "      <th></th>\n",
       "      <th></th>\n",
       "    </tr>\n",
       "  </thead>\n",
       "  <tbody>\n",
       "    <tr>\n",
       "      <th>2023-01-03</th>\n",
       "      <td>89.589996</td>\n",
       "      <td>91.050003</td>\n",
       "      <td>88.519997</td>\n",
       "      <td>89.120003</td>\n",
       "      <td>89.017838</td>\n",
       "      <td>28131200</td>\n",
       "      <td>85.459999</td>\n",
       "      <td>86.959999</td>\n",
       "      <td>84.209999</td>\n",
       "      <td>85.820000</td>\n",
       "      <td>85.820000</td>\n",
       "      <td>76706000</td>\n",
       "      <td>118.470001</td>\n",
       "      <td>118.800003</td>\n",
       "      <td>104.639999</td>\n",
       "      <td>108.099998</td>\n",
       "      <td>108.099998</td>\n",
       "      <td>231402800</td>\n",
       "    </tr>\n",
       "    <tr>\n",
       "      <th>2023-01-04</th>\n",
       "      <td>90.349998</td>\n",
       "      <td>90.650002</td>\n",
       "      <td>87.269997</td>\n",
       "      <td>88.080002</td>\n",
       "      <td>87.979027</td>\n",
       "      <td>34854800</td>\n",
       "      <td>86.550003</td>\n",
       "      <td>86.980003</td>\n",
       "      <td>83.360001</td>\n",
       "      <td>85.139999</td>\n",
       "      <td>85.139999</td>\n",
       "      <td>68885100</td>\n",
       "      <td>109.110001</td>\n",
       "      <td>114.589996</td>\n",
       "      <td>107.519997</td>\n",
       "      <td>113.639999</td>\n",
       "      <td>113.639999</td>\n",
       "      <td>180389000</td>\n",
       "    </tr>\n",
       "    <tr>\n",
       "      <th>2023-01-05</th>\n",
       "      <td>87.470001</td>\n",
       "      <td>87.570000</td>\n",
       "      <td>85.900002</td>\n",
       "      <td>86.199997</td>\n",
       "      <td>86.101181</td>\n",
       "      <td>27194400</td>\n",
       "      <td>85.330002</td>\n",
       "      <td>85.419998</td>\n",
       "      <td>83.070000</td>\n",
       "      <td>83.120003</td>\n",
       "      <td>83.120003</td>\n",
       "      <td>67930800</td>\n",
       "      <td>110.510002</td>\n",
       "      <td>111.750000</td>\n",
       "      <td>107.160004</td>\n",
       "      <td>110.339996</td>\n",
       "      <td>110.339996</td>\n",
       "      <td>157986300</td>\n",
       "    </tr>\n",
       "    <tr>\n",
       "      <th>2023-01-06</th>\n",
       "      <td>86.790001</td>\n",
       "      <td>87.690002</td>\n",
       "      <td>84.860001</td>\n",
       "      <td>87.339996</td>\n",
       "      <td>87.239868</td>\n",
       "      <td>41381500</td>\n",
       "      <td>83.029999</td>\n",
       "      <td>86.400002</td>\n",
       "      <td>81.430000</td>\n",
       "      <td>86.080002</td>\n",
       "      <td>86.080002</td>\n",
       "      <td>83303400</td>\n",
       "      <td>103.000000</td>\n",
       "      <td>114.389999</td>\n",
       "      <td>101.809998</td>\n",
       "      <td>113.059998</td>\n",
       "      <td>113.059998</td>\n",
       "      <td>220911100</td>\n",
       "    </tr>\n",
       "    <tr>\n",
       "      <th>2023-01-09</th>\n",
       "      <td>88.360001</td>\n",
       "      <td>90.050003</td>\n",
       "      <td>87.860001</td>\n",
       "      <td>88.019997</td>\n",
       "      <td>87.919090</td>\n",
       "      <td>29003900</td>\n",
       "      <td>87.459999</td>\n",
       "      <td>89.480003</td>\n",
       "      <td>87.080002</td>\n",
       "      <td>87.360001</td>\n",
       "      <td>87.360001</td>\n",
       "      <td>65266100</td>\n",
       "      <td>118.959999</td>\n",
       "      <td>123.519997</td>\n",
       "      <td>117.110001</td>\n",
       "      <td>119.769997</td>\n",
       "      <td>119.769997</td>\n",
       "      <td>190284000</td>\n",
       "    </tr>\n",
       "  </tbody>\n",
       "</table>\n",
       "</div>"
      ],
      "text/plain": [
       "                GOOGL                                                        \\\n",
       "                 Open       High        Low      Close  Adj Close    Volume   \n",
       "Date                                                                          \n",
       "2023-01-03  89.589996  91.050003  88.519997  89.120003  89.017838  28131200   \n",
       "2023-01-04  90.349998  90.650002  87.269997  88.080002  87.979027  34854800   \n",
       "2023-01-05  87.470001  87.570000  85.900002  86.199997  86.101181  27194400   \n",
       "2023-01-06  86.790001  87.690002  84.860001  87.339996  87.239868  41381500   \n",
       "2023-01-09  88.360001  90.050003  87.860001  88.019997  87.919090  29003900   \n",
       "\n",
       "                 AMZN                                                        \\\n",
       "                 Open       High        Low      Close  Adj Close    Volume   \n",
       "Date                                                                          \n",
       "2023-01-03  85.459999  86.959999  84.209999  85.820000  85.820000  76706000   \n",
       "2023-01-04  86.550003  86.980003  83.360001  85.139999  85.139999  68885100   \n",
       "2023-01-05  85.330002  85.419998  83.070000  83.120003  83.120003  67930800   \n",
       "2023-01-06  83.029999  86.400002  81.430000  86.080002  86.080002  83303400   \n",
       "2023-01-09  87.459999  89.480003  87.080002  87.360001  87.360001  65266100   \n",
       "\n",
       "                  TSLA                                                  \\\n",
       "                  Open        High         Low       Close   Adj Close   \n",
       "Date                                                                     \n",
       "2023-01-03  118.470001  118.800003  104.639999  108.099998  108.099998   \n",
       "2023-01-04  109.110001  114.589996  107.519997  113.639999  113.639999   \n",
       "2023-01-05  110.510002  111.750000  107.160004  110.339996  110.339996   \n",
       "2023-01-06  103.000000  114.389999  101.809998  113.059998  113.059998   \n",
       "2023-01-09  118.959999  123.519997  117.110001  119.769997  119.769997   \n",
       "\n",
       "                       \n",
       "               Volume  \n",
       "Date                   \n",
       "2023-01-03  231402800  \n",
       "2023-01-04  180389000  \n",
       "2023-01-05  157986300  \n",
       "2023-01-06  220911100  \n",
       "2023-01-09  190284000  "
      ]
     },
     "execution_count": 89,
     "metadata": {},
     "output_type": "execute_result"
    }
   ],
   "source": [
    "data.head()"
   ]
  },
  {
   "cell_type": "markdown",
   "metadata": {},
   "source": [
    "## ZADANIE 1 (statystyki opisowe)"
   ]
  },
  {
   "cell_type": "code",
   "execution_count": 90,
   "metadata": {},
   "outputs": [
    {
     "data": {
      "text/html": [
       "<div>\n",
       "<style scoped>\n",
       "    .dataframe tbody tr th:only-of-type {\n",
       "        vertical-align: middle;\n",
       "    }\n",
       "\n",
       "    .dataframe tbody tr th {\n",
       "        vertical-align: top;\n",
       "    }\n",
       "\n",
       "    .dataframe thead tr th {\n",
       "        text-align: left;\n",
       "    }\n",
       "</style>\n",
       "<table border=\"1\" class=\"dataframe\">\n",
       "  <thead>\n",
       "    <tr>\n",
       "      <th></th>\n",
       "      <th colspan=\"6\" halign=\"left\">GOOGL</th>\n",
       "      <th colspan=\"6\" halign=\"left\">AMZN</th>\n",
       "      <th colspan=\"6\" halign=\"left\">TSLA</th>\n",
       "    </tr>\n",
       "    <tr>\n",
       "      <th></th>\n",
       "      <th>Open</th>\n",
       "      <th>High</th>\n",
       "      <th>Low</th>\n",
       "      <th>Close</th>\n",
       "      <th>Adj Close</th>\n",
       "      <th>Volume</th>\n",
       "      <th>Open</th>\n",
       "      <th>High</th>\n",
       "      <th>Low</th>\n",
       "      <th>Close</th>\n",
       "      <th>Adj Close</th>\n",
       "      <th>Volume</th>\n",
       "      <th>Open</th>\n",
       "      <th>High</th>\n",
       "      <th>Low</th>\n",
       "      <th>Close</th>\n",
       "      <th>Adj Close</th>\n",
       "      <th>Volume</th>\n",
       "    </tr>\n",
       "  </thead>\n",
       "  <tbody>\n",
       "    <tr>\n",
       "      <th>count</th>\n",
       "      <td>180.000000</td>\n",
       "      <td>180.000000</td>\n",
       "      <td>180.000000</td>\n",
       "      <td>180.000000</td>\n",
       "      <td>180.000000</td>\n",
       "      <td>1.800000e+02</td>\n",
       "      <td>180.000000</td>\n",
       "      <td>180.000000</td>\n",
       "      <td>180.000000</td>\n",
       "      <td>180.000000</td>\n",
       "      <td>180.000000</td>\n",
       "      <td>1.800000e+02</td>\n",
       "      <td>180.000000</td>\n",
       "      <td>180.000000</td>\n",
       "      <td>180.000000</td>\n",
       "      <td>180.000000</td>\n",
       "      <td>180.000000</td>\n",
       "      <td>1.800000e+02</td>\n",
       "    </tr>\n",
       "    <tr>\n",
       "      <th>mean</th>\n",
       "      <td>112.626611</td>\n",
       "      <td>114.157944</td>\n",
       "      <td>111.500055</td>\n",
       "      <td>112.889945</td>\n",
       "      <td>112.760530</td>\n",
       "      <td>3.425659e+07</td>\n",
       "      <td>114.388723</td>\n",
       "      <td>115.947222</td>\n",
       "      <td>112.947667</td>\n",
       "      <td>114.540000</td>\n",
       "      <td>114.540000</td>\n",
       "      <td>6.163070e+07</td>\n",
       "      <td>208.678612</td>\n",
       "      <td>213.288222</td>\n",
       "      <td>204.416167</td>\n",
       "      <td>209.264666</td>\n",
       "      <td>209.264666</td>\n",
       "      <td>1.442161e+08</td>\n",
       "    </tr>\n",
       "    <tr>\n",
       "      <th>std</th>\n",
       "      <td>15.300018</td>\n",
       "      <td>15.298348</td>\n",
       "      <td>15.212116</td>\n",
       "      <td>15.169495</td>\n",
       "      <td>15.152105</td>\n",
       "      <td>1.371618e+07</td>\n",
       "      <td>17.208651</td>\n",
       "      <td>17.145985</td>\n",
       "      <td>17.133553</td>\n",
       "      <td>17.054723</td>\n",
       "      <td>17.054723</td>\n",
       "      <td>2.187681e+07</td>\n",
       "      <td>46.100524</td>\n",
       "      <td>46.351062</td>\n",
       "      <td>45.540207</td>\n",
       "      <td>45.695701</td>\n",
       "      <td>45.695701</td>\n",
       "      <td>3.835935e+07</td>\n",
       "    </tr>\n",
       "    <tr>\n",
       "      <th>min</th>\n",
       "      <td>85.980003</td>\n",
       "      <td>87.570000</td>\n",
       "      <td>84.860001</td>\n",
       "      <td>86.199997</td>\n",
       "      <td>86.101181</td>\n",
       "      <td>1.446790e+07</td>\n",
       "      <td>83.029999</td>\n",
       "      <td>85.419998</td>\n",
       "      <td>81.430000</td>\n",
       "      <td>83.120003</td>\n",
       "      <td>83.120003</td>\n",
       "      <td>2.826480e+07</td>\n",
       "      <td>103.000000</td>\n",
       "      <td>111.750000</td>\n",
       "      <td>101.809998</td>\n",
       "      <td>108.099998</td>\n",
       "      <td>108.099998</td>\n",
       "      <td>8.316600e+07</td>\n",
       "    </tr>\n",
       "    <tr>\n",
       "      <th>25%</th>\n",
       "      <td>99.677500</td>\n",
       "      <td>101.182503</td>\n",
       "      <td>97.560001</td>\n",
       "      <td>100.187500</td>\n",
       "      <td>100.072647</td>\n",
       "      <td>2.630218e+07</td>\n",
       "      <td>99.039999</td>\n",
       "      <td>100.802500</td>\n",
       "      <td>97.607502</td>\n",
       "      <td>99.152500</td>\n",
       "      <td>99.152500</td>\n",
       "      <td>4.795572e+07</td>\n",
       "      <td>177.865002</td>\n",
       "      <td>183.209999</td>\n",
       "      <td>175.149998</td>\n",
       "      <td>180.137501</td>\n",
       "      <td>180.137501</td>\n",
       "      <td>1.128891e+08</td>\n",
       "    </tr>\n",
       "    <tr>\n",
       "      <th>50%</th>\n",
       "      <td>115.755001</td>\n",
       "      <td>117.814999</td>\n",
       "      <td>114.880001</td>\n",
       "      <td>116.480000</td>\n",
       "      <td>116.346466</td>\n",
       "      <td>3.054180e+07</td>\n",
       "      <td>111.040001</td>\n",
       "      <td>112.959999</td>\n",
       "      <td>109.285000</td>\n",
       "      <td>111.689999</td>\n",
       "      <td>111.689999</td>\n",
       "      <td>5.674265e+07</td>\n",
       "      <td>199.540001</td>\n",
       "      <td>204.214996</td>\n",
       "      <td>194.364998</td>\n",
       "      <td>201.010002</td>\n",
       "      <td>201.010002</td>\n",
       "      <td>1.359068e+08</td>\n",
       "    </tr>\n",
       "    <tr>\n",
       "      <th>75%</th>\n",
       "      <td>125.145002</td>\n",
       "      <td>126.517500</td>\n",
       "      <td>123.332499</td>\n",
       "      <td>124.764999</td>\n",
       "      <td>124.621969</td>\n",
       "      <td>3.724945e+07</td>\n",
       "      <td>130.309998</td>\n",
       "      <td>131.532505</td>\n",
       "      <td>128.860001</td>\n",
       "      <td>130.167496</td>\n",
       "      <td>130.167496</td>\n",
       "      <td>6.914592e+07</td>\n",
       "      <td>251.277500</td>\n",
       "      <td>258.982506</td>\n",
       "      <td>246.824997</td>\n",
       "      <td>254.510002</td>\n",
       "      <td>254.510002</td>\n",
       "      <td>1.681930e+08</td>\n",
       "    </tr>\n",
       "    <tr>\n",
       "      <th>max</th>\n",
       "      <td>138.080002</td>\n",
       "      <td>139.160004</td>\n",
       "      <td>136.619995</td>\n",
       "      <td>138.210007</td>\n",
       "      <td>138.051559</td>\n",
       "      <td>1.194550e+08</td>\n",
       "      <td>145.080002</td>\n",
       "      <td>145.860001</td>\n",
       "      <td>142.949997</td>\n",
       "      <td>144.850006</td>\n",
       "      <td>144.850006</td>\n",
       "      <td>1.581542e+08</td>\n",
       "      <td>296.040009</td>\n",
       "      <td>299.290009</td>\n",
       "      <td>289.519989</td>\n",
       "      <td>293.339996</td>\n",
       "      <td>293.339996</td>\n",
       "      <td>3.065906e+08</td>\n",
       "    </tr>\n",
       "  </tbody>\n",
       "</table>\n",
       "</div>"
      ],
      "text/plain": [
       "            GOOGL                                                  \\\n",
       "             Open        High         Low       Close   Adj Close   \n",
       "count  180.000000  180.000000  180.000000  180.000000  180.000000   \n",
       "mean   112.626611  114.157944  111.500055  112.889945  112.760530   \n",
       "std     15.300018   15.298348   15.212116   15.169495   15.152105   \n",
       "min     85.980003   87.570000   84.860001   86.199997   86.101181   \n",
       "25%     99.677500  101.182503   97.560001  100.187500  100.072647   \n",
       "50%    115.755001  117.814999  114.880001  116.480000  116.346466   \n",
       "75%    125.145002  126.517500  123.332499  124.764999  124.621969   \n",
       "max    138.080002  139.160004  136.619995  138.210007  138.051559   \n",
       "\n",
       "                           AMZN                                      \\\n",
       "             Volume        Open        High         Low       Close   \n",
       "count  1.800000e+02  180.000000  180.000000  180.000000  180.000000   \n",
       "mean   3.425659e+07  114.388723  115.947222  112.947667  114.540000   \n",
       "std    1.371618e+07   17.208651   17.145985   17.133553   17.054723   \n",
       "min    1.446790e+07   83.029999   85.419998   81.430000   83.120003   \n",
       "25%    2.630218e+07   99.039999  100.802500   97.607502   99.152500   \n",
       "50%    3.054180e+07  111.040001  112.959999  109.285000  111.689999   \n",
       "75%    3.724945e+07  130.309998  131.532505  128.860001  130.167496   \n",
       "max    1.194550e+08  145.080002  145.860001  142.949997  144.850006   \n",
       "\n",
       "                                       TSLA                          \\\n",
       "        Adj Close        Volume        Open        High         Low   \n",
       "count  180.000000  1.800000e+02  180.000000  180.000000  180.000000   \n",
       "mean   114.540000  6.163070e+07  208.678612  213.288222  204.416167   \n",
       "std     17.054723  2.187681e+07   46.100524   46.351062   45.540207   \n",
       "min     83.120003  2.826480e+07  103.000000  111.750000  101.809998   \n",
       "25%     99.152500  4.795572e+07  177.865002  183.209999  175.149998   \n",
       "50%    111.689999  5.674265e+07  199.540001  204.214996  194.364998   \n",
       "75%    130.167496  6.914592e+07  251.277500  258.982506  246.824997   \n",
       "max    144.850006  1.581542e+08  296.040009  299.290009  289.519989   \n",
       "\n",
       "                                             \n",
       "            Close   Adj Close        Volume  \n",
       "count  180.000000  180.000000  1.800000e+02  \n",
       "mean   209.264666  209.264666  1.442161e+08  \n",
       "std     45.695701   45.695701  3.835935e+07  \n",
       "min    108.099998  108.099998  8.316600e+07  \n",
       "25%    180.137501  180.137501  1.128891e+08  \n",
       "50%    201.010002  201.010002  1.359068e+08  \n",
       "75%    254.510002  254.510002  1.681930e+08  \n",
       "max    293.339996  293.339996  3.065906e+08  "
      ]
     },
     "execution_count": 90,
     "metadata": {},
     "output_type": "execute_result"
    }
   ],
   "source": [
    "data.describe()"
   ]
  },
  {
   "cell_type": "markdown",
   "metadata": {},
   "source": [
    "## ZADANIE 2 (model OLS)"
   ]
  },
  {
   "cell_type": "markdown",
   "metadata": {},
   "source": [
    "Zrobimy najpierw macierz korelacji:"
   ]
  },
  {
   "cell_type": "code",
   "execution_count": 127,
   "metadata": {},
   "outputs": [
    {
     "data": {
      "text/html": [
       "<div>\n",
       "<style scoped>\n",
       "    .dataframe tbody tr th:only-of-type {\n",
       "        vertical-align: middle;\n",
       "    }\n",
       "\n",
       "    .dataframe tbody tr th {\n",
       "        vertical-align: top;\n",
       "    }\n",
       "\n",
       "    .dataframe thead tr th {\n",
       "        text-align: left;\n",
       "    }\n",
       "</style>\n",
       "<table border=\"1\" class=\"dataframe\">\n",
       "  <thead>\n",
       "    <tr>\n",
       "      <th></th>\n",
       "      <th></th>\n",
       "      <th>GOOGL</th>\n",
       "      <th>AMZN</th>\n",
       "      <th>TSLA</th>\n",
       "    </tr>\n",
       "    <tr>\n",
       "      <th></th>\n",
       "      <th></th>\n",
       "      <th>Adj Close</th>\n",
       "      <th>Adj Close</th>\n",
       "      <th>Adj Close</th>\n",
       "    </tr>\n",
       "  </thead>\n",
       "  <tbody>\n",
       "    <tr>\n",
       "      <th>GOOGL</th>\n",
       "      <th>Adj Close</th>\n",
       "      <td>1.000000</td>\n",
       "      <td>0.960345</td>\n",
       "      <td>0.766174</td>\n",
       "    </tr>\n",
       "    <tr>\n",
       "      <th>AMZN</th>\n",
       "      <th>Adj Close</th>\n",
       "      <td>0.960345</td>\n",
       "      <td>1.000000</td>\n",
       "      <td>0.846925</td>\n",
       "    </tr>\n",
       "    <tr>\n",
       "      <th>TSLA</th>\n",
       "      <th>Adj Close</th>\n",
       "      <td>0.766174</td>\n",
       "      <td>0.846925</td>\n",
       "      <td>1.000000</td>\n",
       "    </tr>\n",
       "  </tbody>\n",
       "</table>\n",
       "</div>"
      ],
      "text/plain": [
       "                    GOOGL      AMZN      TSLA\n",
       "                Adj Close Adj Close Adj Close\n",
       "GOOGL Adj Close  1.000000  0.960345  0.766174\n",
       "AMZN  Adj Close  0.960345  1.000000  0.846925\n",
       "TSLA  Adj Close  0.766174  0.846925  1.000000"
      ]
     },
     "execution_count": 127,
     "metadata": {},
     "output_type": "execute_result"
    }
   ],
   "source": [
    "data2 = data.loc[:, (slice(None), 'Adj Close')]\n",
    "correlation_matrix = data2.corr()\n",
    "correlation_matrix"
   ]
  },
  {
   "cell_type": "markdown",
   "metadata": {},
   "source": [
    "GOOGL i AMZN mają najwyższą korelację (0.960345), co sugeruje, że GOOGL może być dobrą zmienną zależną \n",
    "𝑌, a AMZN i TSLA jako zmienne niezależne 𝑋1 i 𝑋2."
   ]
  },
  {
   "cell_type": "markdown",
   "metadata": {},
   "source": [
    "Zmienne do modelu OLS:\n",
    "- $Y$: cena zamknięcia skorygowana o działania korporacyjne (`Adj Close`) dla GOOGLE\n",
    "- $X_1$: cena zamknięcia skorygowana o działania korporacyjne (`Adj Close`) dla AMAZON\n",
    "- $X_2$: cena zamknięcia skorygowana o działania korporacyjne (`Adj Close`) dla TESLA\n",
    "\n",
    "Postaci modelów:\n",
    "\n",
    "$$Y = \\alpha_0 + \\alpha_1 X_1 + \\alpha_2 X_2 + \\varepsilon \\\\ Y = \\beta_0 + \\beta_1 X_1 + \\varepsilon \\\\ Y = \\gamma_0 + \\gamma_1 X_2 + \\varepsilon$$"
   ]
  },
  {
   "cell_type": "code",
   "execution_count": 102,
   "metadata": {},
   "outputs": [],
   "source": [
    "Y = data2['GOOGL']\n",
    "X1 = data2['AMZN']\n",
    "X2 = data2['TSLA']"
   ]
  },
  {
   "cell_type": "code",
   "execution_count": 105,
   "metadata": {},
   "outputs": [],
   "source": [
    "# Model Y ~ X1 + X2\n",
    "X1_X2 = sm.add_constant(pd.concat([X1, X2], axis=1))  \n",
    "model1 = sm.OLS(Y, X1_X2).fit()\n",
    "\n",
    "# Model Y ~ X1\n",
    "X1_const = sm.add_constant(X1)\n",
    "model2 = sm.OLS(Y, X1_const).fit()\n",
    "\n",
    "# Model Y ~ X2\n",
    "X2_const = sm.add_constant(X2)\n",
    "model3 = sm.OLS(Y, X2_const).fit()"
   ]
  },
  {
   "cell_type": "markdown",
   "metadata": {},
   "source": [
    "## ZADANIE 3 (ocena dopasowanych modeli)"
   ]
  },
  {
   "cell_type": "code",
   "execution_count": 104,
   "metadata": {},
   "outputs": [
    {
     "name": "stdout",
     "output_type": "stream",
     "text": [
      "                            OLS Regression Results                            \n",
      "==============================================================================\n",
      "Dep. Variable:              Adj Close   R-squared:                       0.930\n",
      "Model:                            OLS   Adj. R-squared:                  0.929\n",
      "Method:                 Least Squares   F-statistic:                     1178.\n",
      "Date:                Thu, 20 Jun 2024   Prob (F-statistic):          5.23e-103\n",
      "Time:                        18:49:51   Log-Likelihood:                -504.67\n",
      "No. Observations:                 180   AIC:                             1015.\n",
      "Df Residuals:                     177   BIC:                             1025.\n",
      "Df Model:                           2                                         \n",
      "Covariance Type:            nonrobust                                         \n",
      "==============================================================================\n",
      "                 coef    std err          t      P>|t|      [0.025      0.975]\n",
      "------------------------------------------------------------------------------\n",
      "const         12.2319      2.138      5.721      0.000       8.012      16.451\n",
      "Adj Close      0.9787      0.033     29.482      0.000       0.913       1.044\n",
      "Adj Close     -0.0553      0.012     -4.465      0.000      -0.080      -0.031\n",
      "==============================================================================\n",
      "Omnibus:                        9.332   Durbin-Watson:                   0.277\n",
      "Prob(Omnibus):                  0.009   Jarque-Bera (JB):                4.259\n",
      "Skew:                           0.076   Prob(JB):                        0.119\n",
      "Kurtosis:                       2.262   Cond. No.                     1.73e+03\n",
      "==============================================================================\n",
      "\n",
      "Notes:\n",
      "[1] Standard Errors assume that the covariance matrix of the errors is correctly specified.\n",
      "[2] The condition number is large, 1.73e+03. This might indicate that there are\n",
      "strong multicollinearity or other numerical problems.\n"
     ]
    }
   ],
   "source": [
    "print(model1.summary())"
   ]
  },
  {
   "cell_type": "markdown",
   "metadata": {},
   "source": [
    "Współczynnik determinacji (`R-squared`) równy 0.930, co oznacza, że 93% zmienności zmiennej zależnej (GOOGL) jest wyjaśnione przez zmienne niezależne (AMZN i TSLA). Jest to wysoki poziom, co sugeruje, że model jest dobrze dopasowany do danych.\n",
    "\n",
    "P-value ocenia istotność statystyczną każdego współczynnika. Wszystkie współczynniki w tym modelu mają bardzo niskie P-value (bliskie zeru), co oznacza, że każdy z nich jest istotny statystycznie.\n",
    "\n",
    "Prob (F-statistic) ocenia ogólną istotność modelu regresji. Niskie wartości (5.23e-103 w tym przypadku) sugerują, że przynajmniej jedna z zmiennych niezależnych jest istotnie związana ze zmienną zależną."
   ]
  },
  {
   "cell_type": "code",
   "execution_count": 107,
   "metadata": {},
   "outputs": [
    {
     "name": "stdout",
     "output_type": "stream",
     "text": [
      "                            OLS Regression Results                            \n",
      "==============================================================================\n",
      "Dep. Variable:              Adj Close   R-squared:                       0.922\n",
      "Model:                            OLS   Adj. R-squared:                  0.922\n",
      "Method:                 Least Squares   F-statistic:                     2112.\n",
      "Date:                Thu, 20 Jun 2024   Prob (F-statistic):          1.15e-100\n",
      "Time:                        18:55:47   Log-Likelihood:                -514.27\n",
      "No. Observations:                 180   AIC:                             1033.\n",
      "Df Residuals:                     178   BIC:                             1039.\n",
      "Df Model:                           1                                         \n",
      "Covariance Type:            nonrobust                                         \n",
      "==============================================================================\n",
      "                 coef    std err          t      P>|t|      [0.025      0.975]\n",
      "------------------------------------------------------------------------------\n",
      "const         15.0339      2.150      6.993      0.000      10.791      19.277\n",
      "Adj Close      0.8532      0.019     45.954      0.000       0.817       0.890\n",
      "==============================================================================\n",
      "Omnibus:                        7.483   Durbin-Watson:                   0.214\n",
      "Prob(Omnibus):                  0.024   Jarque-Bera (JB):                4.150\n",
      "Skew:                           0.159   Prob(JB):                        0.126\n",
      "Kurtosis:                       2.327   Cond. No.                         788.\n",
      "==============================================================================\n",
      "\n",
      "Notes:\n",
      "[1] Standard Errors assume that the covariance matrix of the errors is correctly specified.\n"
     ]
    }
   ],
   "source": [
    "print(model2.summary())"
   ]
  },
  {
   "cell_type": "markdown",
   "metadata": {},
   "source": [
    "Współczynnik determinacji (`R-squared`) równy 0.922,co oznacza że 92.2% zmienności zmiennej zależnej (GOOGL) jest wyjaśnione przez zmienną niezależną (AMZN). Jest to bardzo wysoki poziom, co sugeruje, że model dobrze dopasowuje się do danych.\n",
    "\n",
    "P-value ocenia istotność statystyczną każdego współczynnika. Wszystkie współczynniki w tym modelu mają bardzo niskie P-value (bliskie zeru), co oznacza, że każdy z nich jest istotny statystycznie.\n",
    "\n",
    "Prob (F-statistic) ocenia ogólną istotność modelu regresji. Niskie wartości (1.15e-100 w tym przypadku) sugerują, że zmienna niezależna (AMZN) jest istotnie związana ze zmienną zależną."
   ]
  },
  {
   "cell_type": "code",
   "execution_count": 109,
   "metadata": {},
   "outputs": [
    {
     "name": "stdout",
     "output_type": "stream",
     "text": [
      "                            OLS Regression Results                            \n",
      "==============================================================================\n",
      "Dep. Variable:              Adj Close   R-squared:                       0.587\n",
      "Model:                            OLS   Adj. R-squared:                  0.585\n",
      "Method:                 Least Squares   F-statistic:                     253.0\n",
      "Date:                Thu, 20 Jun 2024   Prob (F-statistic):           5.10e-36\n",
      "Time:                        18:58:57   Log-Likelihood:                -664.58\n",
      "No. Observations:                 180   AIC:                             1333.\n",
      "Df Residuals:                     178   BIC:                             1340.\n",
      "Df Model:                           1                                         \n",
      "Covariance Type:            nonrobust                                         \n",
      "==============================================================================\n",
      "                 coef    std err          t      P>|t|      [0.025      0.975]\n",
      "------------------------------------------------------------------------------\n",
      "const         59.5961      3.421     17.423      0.000      52.846      66.346\n",
      "Adj Close      0.2541      0.016     15.906      0.000       0.223       0.286\n",
      "==============================================================================\n",
      "Omnibus:                        8.350   Durbin-Watson:                   0.055\n",
      "Prob(Omnibus):                  0.015   Jarque-Bera (JB):                4.892\n",
      "Skew:                          -0.220   Prob(JB):                       0.0867\n",
      "Kurtosis:                       2.323   Cond. No.                     1.01e+03\n",
      "==============================================================================\n",
      "\n",
      "Notes:\n",
      "[1] Standard Errors assume that the covariance matrix of the errors is correctly specified.\n",
      "[2] The condition number is large, 1.01e+03. This might indicate that there are\n",
      "strong multicollinearity or other numerical problems.\n"
     ]
    }
   ],
   "source": [
    "print(model3.summary())"
   ]
  },
  {
   "cell_type": "markdown",
   "metadata": {},
   "source": [
    "Współczynnik determinacji (`R-squared`) równy 0.587, co oznacza, że 58.7% zmienności zmiennej zależnej (GOOGL) jest wyjaśnione przez zmienną niezależną (TSLA). Jest to niższy poziom w porównaniu do poprzednich modeli, co sugeruje, że TSLA może słabiej tłumaczyć zmienność GOOGL niż AMZN.\n",
    "\n",
    "P-value ocenia istotność statystyczną każdego współczynnika. Wszystkie współczynniki w tym modelu mają bardzo niskie P-value (bliskie zeru), co oznacza, że każdy z nich jest istotny statystycznie\n",
    "\n",
    "Prob (F-statistic) ocenia ogólną istotność modelu regresji. Niskie wartości (5.10e-36 w tym przypadku) sugerują, że zmienna niezależna (TSLA) jest istotnie związana ze zmienną zależną."
   ]
  },
  {
   "cell_type": "markdown",
   "metadata": {},
   "source": [
    "Model Y ~ X2 (gdzie Y to GOOGL, a X2 to TSLA) wykazuje niższy poziom dopasowania w porównaniu do modeli wcześniejszych (Y ~ X1 + X2 i Y ~ X1). Istotność statystyczna współczynnika TSLA sugeruje, że mimo niższego wspólczynnika determinacji (`R-squared`), zmienna TSLA jest istotnym predyktorem GOOGL. Jednak występują problemy diagnostyczne, takie jak silna autokorelacja i niestandardowy rozkład reszt, które mogą wskazywać na potencjalne problemy w interpretacji wyników."
   ]
  },
  {
   "cell_type": "markdown",
   "metadata": {},
   "source": [
    "## ZADANIE 4 (weryfikacja hipotez)"
   ]
  },
  {
   "cell_type": "markdown",
   "metadata": {},
   "source": [
    "\n",
    "### a) Test dla średnich\n",
    "\n",
    "\n",
    "\n",
    "#### Założenia:\n",
    "##### Normalność\n",
    "   "
   ]
  },
  {
   "cell_type": "markdown",
   "metadata": {},
   "source": [
    " $H_0:$ Zmienne $X1$ i $X2$ pochodzą z populacji o rozkładzie normalnym \\\n",
    " $H_1:$ Zmienne $X1$ i $X2$ pochodzą z populacji o rozkładzie innym, niż normalny "
   ]
  },
  {
   "cell_type": "code",
   "execution_count": 120,
   "metadata": {},
   "outputs": [
    {
     "name": "stdout",
     "output_type": "stream",
     "text": [
      "Test Shapiro-Wilka dla X1:\n",
      "Statystyka testowa: 0.913341760635376\n",
      "Wartość p: 8.116945338088044e-09\n",
      "\n",
      "Test Shapiro-Wilka dla X2:\n",
      "Statystyka testowa: 0.9583266973495483\n",
      "Wartość p: 3.5559252864914015e-05\n"
     ]
    }
   ],
   "source": [
    "shapiro_X1 = st.shapiro(X1)\n",
    "shapiro_X2 = st.shapiro(X2)\n",
    "print(\"Test Shapiro-Wilka dla X1:\")\n",
    "print(\"Statystyka testowa:\", shapiro_X1.statistic)\n",
    "print(\"Wartość p:\", shapiro_X1.pvalue)\n",
    "print(\"\\nTest Shapiro-Wilka dla X2:\")\n",
    "print(\"Statystyka testowa:\", shapiro_X2.statistic)\n",
    "print(\"Wartość p:\", shapiro_X2.pvalue)"
   ]
  },
  {
   "cell_type": "markdown",
   "metadata": {},
   "source": [
    "P-wartość jest mniejsza niż ustalony poziom istotności 0.05, więc odrzucamy hipotezę zerową na korzyść alternatywnej. Możemy przypuściać że zmienne $X1$ i $X2$ pochodzą z populacji o rozkładzie innym, niż normalny."
   ]
  },
  {
   "cell_type": "markdown",
   "metadata": {},
   "source": [
    "##### Równość wariancji"
   ]
  },
  {
   "cell_type": "markdown",
   "metadata": {},
   "source": [
    "$H_0: \\sigma_{x1}^2 = \\sigma_{x2}^2$ \\\n",
    "$H_1: \\sigma_{x1}^2 \\neq \\sigma_{x2}^2$ \n",
    "\n",
    " "
   ]
  },
  {
   "cell_type": "code",
   "execution_count": 134,
   "metadata": {},
   "outputs": [
    {
     "name": "stdout",
     "output_type": "stream",
     "text": [
      "\n",
      "Test Levene'a dla równości wariancji:\n",
      "Statystyka: 130.01854336496808\n",
      "Wartość p: 6.662077310908193e-26\n"
     ]
    }
   ],
   "source": [
    "X1_values = data2['AMZN'].to_numpy()  \n",
    "X2_values = data2['TSLA'].to_numpy()  \n",
    "\n",
    "# Usunięcie wartości NaN\n",
    "X1_values = X1_values[~np.isnan(X1_values)]\n",
    "X2_values = X2_values[~np.isnan(X2_values)]\n",
    "\n",
    "# Test Levene'a dla równości wariancji\n",
    "levene_test = st.levene(X1_values, X2_values)\n",
    "print(\"\\nTest Levene'a dla równości wariancji:\")\n",
    "print(\"Statystyka:\", levene_test.statistic)\n",
    "print(\"Wartość p:\", levene_test.pvalue)"
   ]
  },
  {
   "cell_type": "markdown",
   "metadata": {},
   "source": [
    "P-wartość jest mniejsza niż ustalony poziom istotności 0.05, więc odrzucamy hipotezę zerową na korzyść alternatywnej.Możemy przypuściać że zmienne $X_1$ i $X_2$ mają różne wariancje.\n"
   ]
  },
  {
   "cell_type": "markdown",
   "metadata": {},
   "source": [
    "#### Test\n",
    "\n",
    "Na podstawie sprawdzonych założeń możemy użyć T-test, który będzie odpowiadał założeniam.\n",
    "\n",
    "$$H_0: \\mu_1 = \\mu_2 \\\\ H_1: \\mu_1 \\neq \\mu_2$$"
   ]
  },
  {
   "cell_type": "code",
   "execution_count": 138,
   "metadata": {},
   "outputs": [
    {
     "name": "stdout",
     "output_type": "stream",
     "text": [
      "\n",
      "Nieparametryczny T-test dla równości średnich:\n",
      "Wartość t: [-26.05587756]\n",
      "Wartość p: [2.7432846e-70]\n"
     ]
    }
   ],
   "source": [
    "t_stat, t_pvalue = st.ttest_ind(X1, X2, equal_var=False)\n",
    "print(\"\\nNieparametryczny T-test dla równości średnich:\")\n",
    "print(\"Wartość t:\", t_stat)\n",
    "print(\"Wartość p:\", t_pvalue)"
   ]
  },
  {
   "cell_type": "markdown",
   "metadata": {},
   "source": [
    "P-wartość jest mniejsza niż ustalony poziom istotności 0.05, więc odrzucamy hipotezę zerową na korzyść alternatywnej.Możemy przypuściać że średnie są różne."
   ]
  },
  {
   "cell_type": "markdown",
   "metadata": {},
   "source": [
    "### b) Test zgodności (KS test)"
   ]
  },
  {
   "cell_type": "markdown",
   "metadata": {},
   "source": [
    "$$H_0: F_1 = F_2 \\\\ H_1: F_1 \\neq F_2$$"
   ]
  },
  {
   "cell_type": "code",
   "execution_count": 141,
   "metadata": {},
   "outputs": [
    {
     "name": "stdout",
     "output_type": "stream",
     "text": [
      "\n",
      "Test Kolmogorova-Smirnova dla równości rozkładów (Y vs X1):\n",
      "Statystyka KS: 0.16111111111111112\n",
      "Wartość p: 0.018566878576656717\n"
     ]
    }
   ],
   "source": [
    "Y_values = Y.to_numpy()\n",
    "Y_values = Y_values[~np.isnan(Y_values)]\n",
    "\n",
    "ks_stat, ks_pvalue = st.ks_2samp(Y_values, X1_values)\n",
    "print(\"\\nTest Kolmogorova-Smirnova dla równości rozkładów (Y vs X1):\")\n",
    "print(\"Statystyka KS:\", ks_stat)\n",
    "print(\"Wartość p:\", ks_pvalue)"
   ]
  },
  {
   "cell_type": "markdown",
   "metadata": {},
   "source": [
    "P-wartość jest mniejsza niż ustalony poziom istotności 0.05, więc odrzucamy hipotezę zerową na korzyść alternatywnej.Możemy przypuściać,że zmienne $Y$ i $X_1$ mają różne rozkłady."
   ]
  },
  {
   "cell_type": "code",
   "execution_count": null,
   "metadata": {},
   "outputs": [],
   "source": []
  }
 ],
 "metadata": {
  "kernelspec": {
   "display_name": "Python 3 (ipykernel)",
   "language": "python",
   "name": "python3"
  },
  "language_info": {
   "codemirror_mode": {
    "name": "ipython",
    "version": 3
   },
   "file_extension": ".py",
   "mimetype": "text/x-python",
   "name": "python",
   "nbconvert_exporter": "python",
   "pygments_lexer": "ipython3",
   "version": "3.11.5"
  }
 },
 "nbformat": 4,
 "nbformat_minor": 2
}
